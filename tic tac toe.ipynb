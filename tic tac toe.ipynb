{
 "cells": [
  {
   "cell_type": "code",
   "execution_count": 3,
   "id": "0ff4786c",
   "metadata": {},
   "outputs": [],
   "source": [
    "from IPython.display import clear_output\n",
    "\n",
    "def display_board(board):\n",
    "    print(board[1]+' | '+board[2]+' | '+board[3])\n",
    "    print(\"- + - + -\")\n",
    "    print(board[4]+' | '+board[5]+' | '+board[6])\n",
    "    print(\"- + - + -\")\n",
    "    print(board[7]+' | '+board[8]+' | '+board[9])\n",
    "    pass\n",
    "    \n",
    "\n",
    "\n"
   ]
  },
  {
   "cell_type": "code",
   "execution_count": 4,
   "id": "f3cca07e",
   "metadata": {},
   "outputs": [],
   "source": [
    "import random\n",
    "def choose_first():\n",
    "    name=input(\"enter name of player 1\")\n",
    "    name1=input(\"enter name of player 2\")\n",
    "    s=random.randint(1,2)\n",
    "    if s==1:\n",
    "        return name,name1\n",
    "    else: \n",
    "        return name1,name"
   ]
  },
  {
   "cell_type": "code",
   "execution_count": 5,
   "id": "fde706a1",
   "metadata": {},
   "outputs": [],
   "source": [
    "def player_input():\n",
    "    turn=input(\"enter X or O\")\n",
    "    while turn==\"X\" or turn==\"x\" or turn==\"O\" or turn==\"o\":\n",
    "        return turn\n",
    "    else:\n",
    "        return player_input()\n",
    "    pass"
   ]
  },
  {
   "cell_type": "code",
   "execution_count": 6,
   "id": "9f320d61",
   "metadata": {},
   "outputs": [],
   "source": [
    "def player_choice(board):\n",
    "    position=int(input(\"enter position where number is to be inserted\"))\n",
    "    if 0<position<10:\n",
    "        a=space_check(board,position)\n",
    "    if a== True:\n",
    "            return position\n",
    "    else:\n",
    "        print(\"space already occupied\")\n",
    "        return player_choice(board)"
   ]
  },
  {
   "cell_type": "code",
   "execution_count": 7,
   "id": "44c5562a",
   "metadata": {},
   "outputs": [],
   "source": [
    "def space_check(board,position):\n",
    "    if board[position-1]==\" \":\n",
    "        return True\n",
    "    else:\n",
    "        return False"
   ]
  },
  {
   "cell_type": "code",
   "execution_count": 8,
   "id": "6d10a8e0",
   "metadata": {},
   "outputs": [],
   "source": [
    "def full_board_check(board):\n",
    "    count=0\n",
    "    for i in range(9):\n",
    "        if board[i]==\" \":\n",
    "            count+=1\n",
    "        if count>=1:\n",
    "            return True\n",
    "        else:\n",
    "            return False\n",
    "              "
   ]
  },
  {
   "cell_type": "code",
   "execution_count": 9,
   "id": "b2f78a2c",
   "metadata": {},
   "outputs": [],
   "source": [
    "def place_marker(board, marker, position):\n",
    "    board[position-1]=marker\n",
    "    return board[position-1]"
   ]
  },
  {
   "cell_type": "code",
   "execution_count": 10,
   "id": "11b629e6",
   "metadata": {},
   "outputs": [],
   "source": [
    "def win_check(board,mark):\n",
    "    if (board[0]==mark and board[1]==mark and board[2]==mark):\n",
    "        return True\n",
    "    elif (board[0]==mark and board[3]==mark and board[6]==mark):\n",
    "        return True\n",
    "    elif (board[3]==mark and board[4]==mark and board[5]==mark):\n",
    "        return True    \n",
    "    elif(board[1]==mark and board[4]==mark and board[7]==mark):\n",
    "        return True\n",
    "    elif (board[2]==mark and board[5]==mark and board[8]==mark):\n",
    "        return True\n",
    "    elif (board[6]==mark and board[7]==mark and board[8]==mark):\n",
    "        return True\n",
    "    elif (board[0]==mark and board[8]==mark and board[4]==mark):\n",
    "        return True\n",
    "    elif(board[2]==mark and board[6]==mark and board[4]==mark):\n",
    "        return True\n",
    "    else: \n",
    "        return False"
   ]
  },
  {
   "cell_type": "code",
   "execution_count": 11,
   "id": "8d0629d5",
   "metadata": {},
   "outputs": [],
   "source": [
    "def replay():\n",
    "    a=input(\"press 'y' to play again\")\n",
    "    if a.upper()==\"Y\":\n",
    "        return True\n",
    "    else:\n",
    "        return False\n"
   ]
  },
  {
   "cell_type": "code",
   "execution_count": null,
   "id": "b7b21335",
   "metadata": {},
   "outputs": [
    {
     "name": "stdout",
     "output_type": "stream",
     "text": [
      "WELCOME TO TIC TAC TOE GAME\n",
      "  |   |  \n",
      "- + - + -\n",
      "  |   |  \n",
      "- + - + -\n",
      "  |   |  \n",
      "None\n",
      "enter name of player 1akshay\n",
      "enter name of player 2gaurav\n",
      "gaurav  will play first\n",
      "akshay  will play second\n",
      "enter the mark \n",
      "enter X or Ox\n",
      "mark of  gaurav  is  X\n",
      "mark of  akshay  is  O\n",
      "enter position where number is to be inserted1\n",
      "X |   |  \n",
      "- + - + -\n",
      "  |   |  \n",
      "- + - + -\n",
      "  |   |  \n",
      "enter position where number is to be inserted9\n",
      "X |   |  \n",
      "- + - + -\n",
      "  |   |  \n",
      "- + - + -\n",
      "  |   | O\n",
      "game drawn\n",
      "enter position where number is to be inserted3\n",
      "X |   | X\n",
      "- + - + -\n",
      "  |   |  \n",
      "- + - + -\n",
      "  |   | O\n",
      "game drawn\n",
      "enter position where number is to be inserted2\n",
      "X | O | X\n",
      "- + - + -\n",
      "  |   |  \n",
      "- + - + -\n",
      "  |   | O\n",
      "game drawn\n",
      "enter position where number is to be inserted4\n",
      "X | O | X\n",
      "- + - + -\n",
      "X |   |  \n",
      "- + - + -\n",
      "  |   | O\n",
      "game drawn\n",
      "enter position where number is to be inserted5\n",
      "X | O | X\n",
      "- + - + -\n",
      "X | O |  \n",
      "- + - + -\n",
      "  |   | O\n",
      "game drawn\n",
      "enter position where number is to be inserted6\n",
      "X | O | X\n",
      "- + - + -\n",
      "X | O | X\n",
      "- + - + -\n",
      "  |   | O\n",
      "game drawn\n",
      "enter position where number is to be inserted7\n",
      "X | O | X\n",
      "- + - + -\n",
      "X | O | X\n",
      "- + - + -\n",
      "O |   | O\n",
      "game drawn\n",
      "enter position where number is to be inserted8\n",
      "X | O | X\n",
      "- + - + -\n",
      "X | O | X\n",
      "- + - + -\n",
      "O | X | O\n",
      "game drawn\n"
     ]
    }
   ],
   "source": [
    "print(\"WELCOME TO TIC TAC TOE GAME\")\n",
    "i=True\n",
    "while i==True:\n",
    "    board=[\" \",\" \",\" \",\" \",\" \",\" \",\" \",\" \",\" \"]\n",
    "    s=dict(zip([1,2,3,4,5,6,7,8,9],board))\n",
    "    print(display_board(s))\n",
    "    play=[]\n",
    "    play=choose_first()\n",
    "    print(play[0],\" will play first\")\n",
    "    print(play[1],\" will play second\")\n",
    "    print(\"enter the mark \")\n",
    "    turn=(player_input()).upper()\n",
    "    if turn==\"X\":\n",
    "        turn1=\"O\"\n",
    "        print(\"mark of \",play[0],\" is \",turn)\n",
    "        print(\"mark of \",play[1],\" is \",turn1)\n",
    "    else:\n",
    "        turn=\"O\"\n",
    "        turn1=\"X\"\n",
    "        print(\"mark of \",play[0],\" is \",turn)\n",
    "        print(\"mark of \",play[1],\" is \",turn1)\n",
    "    count =True\n",
    "    while count==True:\n",
    "        for i in range(9):\n",
    "            position=player_choice(board)\n",
    "            if i%2==0:\n",
    "                count=full_board_check(board)\n",
    "                s[position]=place_marker(board,turn,position)\n",
    "                display_board(s)\n",
    "                a=win_check(board,turn)\n",
    "                if a==True:\n",
    "                    print(play[0],\" won\")\n",
    "                    break\n",
    "                elif count==False:\n",
    "                    print(\"game drawn\")\n",
    "            else:\n",
    "                count=full_board_check(board)\n",
    "                s[position]=place_marker(board,turn1,position)\n",
    "                display_board(s)\n",
    "                a=win_check(board,turn1)\n",
    "                if a==True:\n",
    "                    print(play[1],\" won\")\n",
    "                    break\n",
    "                elif count==False:\n",
    "                    print(\"game drawn\")\n",
    "        i=replay()"
   ]
  },
  {
   "cell_type": "code",
   "execution_count": 11,
   "id": "76ce4ff7",
   "metadata": {},
   "outputs": [
    {
     "data": {
      "text/plain": [
       "{1: ' ', 2: ' ', 3: ' ', 4: ' ', 5: ' ', 6: ' ', 7: ' ', 8: ' ', 9: ' '}"
      ]
     },
     "execution_count": 11,
     "metadata": {},
     "output_type": "execute_result"
    }
   ],
   "source": [
    "s"
   ]
  },
  {
   "cell_type": "code",
   "execution_count": null,
   "id": "9143a37a",
   "metadata": {},
   "outputs": [],
   "source": []
  }
 ],
 "metadata": {
  "kernelspec": {
   "display_name": "Python 3 (ipykernel)",
   "language": "python",
   "name": "python3"
  },
  "language_info": {
   "codemirror_mode": {
    "name": "ipython",
    "version": 3
   },
   "file_extension": ".py",
   "mimetype": "text/x-python",
   "name": "python",
   "nbconvert_exporter": "python",
   "pygments_lexer": "ipython3",
   "version": "3.9.6"
  }
 },
 "nbformat": 4,
 "nbformat_minor": 5
}
